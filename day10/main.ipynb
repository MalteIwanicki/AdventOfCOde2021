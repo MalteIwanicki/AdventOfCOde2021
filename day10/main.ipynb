{
 "cells": [
  {
   "cell_type": "code",
   "execution_count": 79,
   "metadata": {},
   "outputs": [],
   "source": [
    "import pathlib\n",
    "\n",
    "INPUT = \"input.txt\"\n",
    "TEST_INPUT = \"test_input.txt\"\n",
    "PAIRS = {\"(\": \")\", \"[\": \"]\", \"{\": \"}\", \"<\": \">\"}\n",
    "POINTS = {\")\": 3, \"]\": 57, \"}\": 1197, \">\": 25137}\n",
    "POINTS_COMPLETION = {\")\": 1, \"]\": 2, \"}\": 3, \">\": 4}\n"
   ]
  },
  {
   "cell_type": "markdown",
   "metadata": {},
   "source": [
    "# load input"
   ]
  },
  {
   "cell_type": "code",
   "execution_count": 3,
   "metadata": {},
   "outputs": [],
   "source": [
    "def load_input(file=INPUT):\n",
    "    lines = open(file, \"r\").read().splitlines()\n",
    "    return lines"
   ]
  },
  {
   "cell_type": "code",
   "execution_count": 40,
   "metadata": {},
   "outputs": [],
   "source": [
    "def test_load_input():\n",
    "    expected = [\n",
    "        \"[({(<(())[]>[[{[]{<()<>>\",\n",
    "        \"[(()[<>])]({[<{<<[]>>(\",\n",
    "        \"{([(<{}[<>[]}>{[]{[(<()>\",\n",
    "        \"(((({<>}<{<{<>}{[]{[]{}\",\n",
    "        \"[[<[([]))<([[{}[[()]]]\",\n",
    "        \"[{[{({}]{}}([{[{{{}}([]\",\n",
    "        \"{<[[]]>}<{[{[{[]{()[[[]\",\n",
    "        \"[<(<(<(<{}))><([]([]()\",\n",
    "        \"<{([([[(<>()){}]>(<<{{\",\n",
    "        \"<{([{{}}[<[[[<>{}]]]>[]]\",\n",
    "    ]\n",
    "\n",
    "    assert load_input(TEST_INPUT) == expected\n",
    "    \n",
    "test_load_input()\n",
    "test_chunks = load_input(TEST_INPUT)\n"
   ]
  },
  {
   "cell_type": "markdown",
   "metadata": {},
   "source": [
    "# is corrupted"
   ]
  },
  {
   "cell_type": "code",
   "execution_count": 28,
   "metadata": {},
   "outputs": [],
   "source": [
    "def is_corrupted(chunk):\n",
    "    stack = \"\"\n",
    "    for c in chunk:\n",
    "        if c in PAIRS:\n",
    "            stack += c\n",
    "        elif c == PAIRS[stack[-1]]:\n",
    "            stack = stack[:-1]\n",
    "        else:\n",
    "            return c\n",
    "    return False\n"
   ]
  },
  {
   "cell_type": "code",
   "execution_count": 41,
   "metadata": {},
   "outputs": [],
   "source": [
    "def test_is_corrupted():\n",
    "    corrupted_chunks = [\"(]\", \"{()()()>\", \"(((()))}\", \"<([]){()}[{}])\"]\n",
    "    for chunk in corrupted_chunks:\n",
    "        assert is_corrupted(chunk)\n",
    "    correct_chunks = [\n",
    "        \"()\",\n",
    "        \"[]\",\n",
    "        \"([])\",\n",
    "        \"{()()()}\",\n",
    "        \"<([{}])>\",\n",
    "        \"[<>({}){}[([])<>]]\",\n",
    "        \"(((((((((())))))))))\",\n",
    "    ]\n",
    "    for chunk in correct_chunks:\n",
    "        assert not is_corrupted(chunk)\n",
    "\n",
    "test_is_corrupted()"
   ]
  },
  {
   "cell_type": "markdown",
   "metadata": {},
   "source": [
    "# get score"
   ]
  },
  {
   "cell_type": "code",
   "execution_count": 31,
   "metadata": {},
   "outputs": [],
   "source": [
    "def get_score(chunk):\n",
    "    corrupted = is_corrupted(chunk)\n",
    "    if corrupted:\n",
    "        return POINTS[corrupted]\n",
    "    return 0\n",
    "    "
   ]
  },
  {
   "cell_type": "code",
   "execution_count": 44,
   "metadata": {},
   "outputs": [],
   "source": [
    "def test_get_score():\n",
    "    chunk = \"(()]\"\n",
    "    score = POINTS[\"]\"]\n",
    "    assert score == get_score(chunk)\n",
    "    chunk = \"(())\"\n",
    "    score = 0\n",
    "    assert score == get_score(chunk)\n",
    "test_get_score()"
   ]
  },
  {
   "cell_type": "markdown",
   "metadata": {},
   "source": [
    "# get total score"
   ]
  },
  {
   "cell_type": "code",
   "execution_count": 45,
   "metadata": {},
   "outputs": [],
   "source": [
    "def get_total_score(chunks):\n",
    "    scores = [get_score(chunk) for chunk in chunks]\n",
    "    return sum(scores)\n"
   ]
  },
  {
   "cell_type": "code",
   "execution_count": 47,
   "metadata": {},
   "outputs": [],
   "source": [
    "def test_get_total_score(test_chunks):\n",
    "    assert 26397 == get_total_score(test_chunks)\n",
    "test_get_total_score(test_chunks)"
   ]
  },
  {
   "cell_type": "markdown",
   "metadata": {},
   "source": [
    "# Part1"
   ]
  },
  {
   "cell_type": "code",
   "execution_count": 50,
   "metadata": {},
   "outputs": [],
   "source": [
    "def part1(file=INPUT):\n",
    "    chunks = load_input(file)\n",
    "    return get_total_score(chunks)\n",
    "    "
   ]
  },
  {
   "cell_type": "code",
   "execution_count": 51,
   "metadata": {},
   "outputs": [],
   "source": [
    "def test_part1():\n",
    "    assert 26397 == part1(TEST_INPUT)\n",
    "test_part1()\n"
   ]
  },
  {
   "cell_type": "code",
   "execution_count": 52,
   "metadata": {},
   "outputs": [
    {
     "data": {
      "text/plain": [
       "290691"
      ]
     },
     "execution_count": 52,
     "metadata": {},
     "output_type": "execute_result"
    }
   ],
   "source": [
    "part1()"
   ]
  },
  {
   "cell_type": "markdown",
   "metadata": {},
   "source": [
    "# Part 2"
   ]
  },
  {
   "cell_type": "markdown",
   "metadata": {},
   "source": [
    "# get_points_completion"
   ]
  },
  {
   "cell_type": "code",
   "execution_count": 114,
   "metadata": {},
   "outputs": [],
   "source": [
    "def get_completion_score(stack):\n",
    "    score = 0\n",
    "    for c in stack[::-1]:\n",
    "        score = score * 5\n",
    "        score += POINTS_COMPLETION[PAIRS[c]]\n",
    "    return score\n"
   ]
  },
  {
   "cell_type": "code",
   "execution_count": 115,
   "metadata": {},
   "outputs": [],
   "source": [
    "def test_get_completion_score(test_chunks):\n",
    "    stack=\"<{([\"\n",
    "    assert 294 == get_completion_score(stack)\n",
    "test_get_completion_score(test_chunks)"
   ]
  },
  {
   "cell_type": "markdown",
   "metadata": {},
   "source": [
    "# is incomplete\n"
   ]
  },
  {
   "cell_type": "code",
   "execution_count": 120,
   "metadata": {},
   "outputs": [],
   "source": [
    "def is_incomplete(chunk):\n",
    "    stack = \"\"\n",
    "    for c in chunk:\n",
    "        if c in PAIRS:\n",
    "            stack += c\n",
    "        elif c == PAIRS[stack[-1]]:\n",
    "            stack = stack[:-1]\n",
    "        else:\n",
    "            return False\n",
    "    if stack:\n",
    "        return get_completion_score(stack)\n",
    "    return False"
   ]
  },
  {
   "cell_type": "code",
   "execution_count": 121,
   "metadata": {},
   "outputs": [],
   "source": [
    "def test_is_incomplete():\n",
    "    incomplete_chunk = \"[({(<(())[]>[[{[]{<()<>>\"\n",
    "    assert is_incomplete(incomplete_chunk)==288957\n",
    "    complete_chunk = \"((([[[(())]](())])))\"\n",
    "    assert not is_incomplete(complete_chunk)\n",
    "test_is_incomplete()"
   ]
  },
  {
   "cell_type": "markdown",
   "metadata": {},
   "source": [
    "# get scores"
   ]
  },
  {
   "cell_type": "code",
   "execution_count": 125,
   "metadata": {},
   "outputs": [],
   "source": [
    "def get_scores_completion(chunks):\n",
    "    scores=[]\n",
    "    for chunk in chunks:\n",
    "        score = is_incomplete(chunk)\n",
    "        if score:\n",
    "            scores.append(score)\n",
    "    return sorted(scores)"
   ]
  },
  {
   "cell_type": "code",
   "execution_count": 126,
   "metadata": {},
   "outputs": [
    {
     "data": {
      "text/plain": [
       "[294, 5566, 288957, 995444, 1480781]"
      ]
     },
     "execution_count": 126,
     "metadata": {},
     "output_type": "execute_result"
    }
   ],
   "source": [
    "get_scores_completion(test_chunks)"
   ]
  },
  {
   "cell_type": "markdown",
   "metadata": {},
   "source": [
    "# Part2"
   ]
  },
  {
   "cell_type": "code",
   "execution_count": 127,
   "metadata": {},
   "outputs": [],
   "source": [
    "def part2(file=INPUT):\n",
    "    chunks = load_input(file)\n",
    "    scores = get_scores_completion(chunks)\n",
    "    return scores[len(scores)//2]"
   ]
  },
  {
   "cell_type": "code",
   "execution_count": 128,
   "metadata": {},
   "outputs": [
    {
     "data": {
      "text/plain": [
       "288957"
      ]
     },
     "execution_count": 128,
     "metadata": {},
     "output_type": "execute_result"
    }
   ],
   "source": [
    "part2(TEST_INPUT)"
   ]
  },
  {
   "cell_type": "code",
   "execution_count": 129,
   "metadata": {},
   "outputs": [
    {
     "data": {
      "text/plain": [
       "2768166558"
      ]
     },
     "execution_count": 129,
     "metadata": {},
     "output_type": "execute_result"
    }
   ],
   "source": [
    "part2()"
   ]
  },
  {
   "cell_type": "code",
   "execution_count": null,
   "metadata": {},
   "outputs": [],
   "source": []
  }
 ],
 "metadata": {
  "interpreter": {
   "hash": "ecf5722fdaf1897a315d257d89d94520bfcaa453217d5becf09b39e73618b0de"
  },
  "kernelspec": {
   "display_name": "Python 3.9.7 ('base')",
   "language": "python",
   "name": "python3"
  },
  "language_info": {
   "codemirror_mode": {
    "name": "ipython",
    "version": 3
   },
   "file_extension": ".py",
   "mimetype": "text/x-python",
   "name": "python",
   "nbconvert_exporter": "python",
   "pygments_lexer": "ipython3",
   "version": "3.9.7"
  },
  "orig_nbformat": 4
 },
 "nbformat": 4,
 "nbformat_minor": 2
}
