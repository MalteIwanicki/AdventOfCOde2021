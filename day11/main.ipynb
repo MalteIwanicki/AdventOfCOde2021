{
 "cells": [
  {
   "cell_type": "code",
   "execution_count": 2,
   "metadata": {},
   "outputs": [],
   "source": [
    "import pathlib\n",
    "\n",
    "INPUT = \"input.txt\"\n",
    "TEST_INPUT = \"test_input.txt\""
   ]
  },
  {
   "cell_type": "markdown",
   "metadata": {},
   "source": [
    "# load input"
   ]
  },
  {
   "cell_type": "code",
   "execution_count": 10,
   "metadata": {},
   "outputs": [
    {
     "data": {
      "text/plain": [
       "['abc']"
      ]
     },
     "execution_count": 10,
     "metadata": {},
     "output_type": "execute_result"
    }
   ],
   "source": [
    "\"abc\".split()"
   ]
  },
  {
   "cell_type": "code",
   "execution_count": 11,
   "metadata": {},
   "outputs": [],
   "source": [
    "def load_input(file=INPUT):\n",
    "    lines = open(file, \"r\").read().splitlines()\n",
    "    energy_levels = []\n",
    "    for line in lines:\n",
    "        energy_levels.append([int(i) for i in line])\n",
    "    return energy_levels\n"
   ]
  },
  {
   "cell_type": "code",
   "execution_count": 12,
   "metadata": {},
   "outputs": [],
   "source": [
    "def test_load_input():\n",
    "    expected = [\n",
    "        [5,4,8,3,1,4,3,2,2,3],\n",
    "        [2,7,4,5,8,5,4,7,1,1],\n",
    "        [5,2,6,4,5,5,6,1,7,3],\n",
    "        [6,1,4,1,3,3,6,1,4,6],\n",
    "        [6,3,5,7,3,8,5,4,7,8],\n",
    "        [4,1,6,7,5,2,4,6,4,5],\n",
    "        [2,1,7,6,8,4,1,7,2,1],\n",
    "        [6,8,8,2,8,8,1,1,3,4],\n",
    "        [4,8,4,6,8,4,8,5,5,4],\n",
    "        [5,2,8,3,7,5,1,5,2,6]\n",
    "    ]\n",
    "    result=load_input(TEST_INPUT)\n",
    "    assert result == expected\n",
    "    \n",
    "test_load_input()"
   ]
  },
  {
   "cell_type": "markdown",
   "metadata": {},
   "source": [
    "# do step"
   ]
  },
  {
   "cell_type": "code",
   "execution_count": 37,
   "metadata": {},
   "outputs": [],
   "source": [
    "def do_step(matrix):\n",
    "    flashes = 0\n",
    "    # increase\n",
    "    for i in range(len(matrix)):\n",
    "        for j in range(len(matrix[i])):\n",
    "            matrix[i][j]+=1\n",
    "    # flash\n",
    "    flashed = True\n",
    "    while flashed:\n",
    "        flashed=False\n",
    "        for i in range(len(matrix)):\n",
    "            for j in range(len(matrix[i])):\n",
    "                if matrix[i][j] >= 10 and matrix[i][j]<100:\n",
    "                    flashed=True\n",
    "                    matrix[i][j] = 100\n",
    "                    # left\n",
    "                    if j>0:\n",
    "                        if i>0:\n",
    "                            matrix[i-1][j-1] +=1\n",
    "                        matrix[i][j-1] +=1\n",
    "                        if i<len(matrix)-1:\n",
    "                            matrix[i+1][j-1] +=1\n",
    "                    # middle\n",
    "                    if i>0:\n",
    "                        matrix[i-1][j] +=1\n",
    "                    if i< len(matrix)-1:\n",
    "                        matrix[i+1][j] +=1\n",
    "                    # right\n",
    "                    if j<len(matrix[i])-1:\n",
    "                        if i>0:\n",
    "                            matrix[i-1][j+1] +=1\n",
    "                        matrix[i][j+1] +=1\n",
    "                        if i<len(matrix)-1:\n",
    "                         matrix[i+1][j+1] +=1\n",
    "    # set flashed to 0  \n",
    "    for i in range(len(matrix)):\n",
    "        for j in range(len(matrix[i])):\n",
    "            if matrix[i][j]>=100:\n",
    "                matrix[i][j]=0\n",
    "                flashes +=1\n",
    "    return flashes"
   ]
  },
  {
   "cell_type": "code",
   "execution_count": 38,
   "metadata": {},
   "outputs": [],
   "source": [
    "def test_do_step():\n",
    "    # test edge\n",
    "    test_matrix=[[9,9,9],[9,9,9],[9,9,9]]\n",
    "    do_step(test_matrix)\n",
    "    # step 1\n",
    "    test_matrix = [\n",
    "        [1, 1, 1, 1, 1],\n",
    "        [1, 9, 9, 9, 1],\n",
    "        [1, 9, 1, 9, 1],\n",
    "        [1, 9, 9, 9, 1],\n",
    "        [1, 1, 1, 1, 1],\n",
    "    ]\n",
    "    flashes = do_step(test_matrix)\n",
    "    after_step_1 = [\n",
    "        [3, 4, 5, 4, 3],\n",
    "        [4, 0, 0, 0, 4],\n",
    "        [5, 0, 0, 0, 5],\n",
    "        [4, 0, 0, 0, 4],\n",
    "        [3, 4, 5, 4, 3],\n",
    "    ]\n",
    "    assert flashes == 9\n",
    "    assert test_matrix == after_step_1\n",
    "    # step 2\n",
    "    do_step(test_matrix)\n",
    "    after_step_2 = [\n",
    "        [4, 5, 6, 5, 4],\n",
    "        [5, 1, 1, 1, 5],\n",
    "        [6, 1, 1, 1, 6],\n",
    "        [5, 1, 1, 1, 5],\n",
    "        [4, 5, 6, 5, 4],\n",
    "    ]\n",
    "    assert test_matrix == after_step_2\n",
    "\n",
    "test_do_step()"
   ]
  },
  {
   "cell_type": "markdown",
   "metadata": {},
   "source": [
    "# do_steps"
   ]
  },
  {
   "cell_type": "code",
   "execution_count": 32,
   "metadata": {},
   "outputs": [],
   "source": [
    "def do_steps(matrix,steps):\n",
    "    flashes = 0\n",
    "    for _ in range(steps):\n",
    "        flashes += do_step(matrix)\n",
    "    return flashes\n"
   ]
  },
  {
   "cell_type": "code",
   "execution_count": 39,
   "metadata": {},
   "outputs": [],
   "source": [
    "def test_do_steps():\n",
    "    test_matrix = load_input(TEST_INPUT)\n",
    "    steps = 100\n",
    "    expected = 1656\n",
    "    result = do_steps(test_matrix, steps)\n",
    "    assert result == expected\n",
    "test_do_steps()"
   ]
  },
  {
   "cell_type": "markdown",
   "metadata": {},
   "source": [
    "# part1"
   ]
  },
  {
   "cell_type": "code",
   "execution_count": 40,
   "metadata": {},
   "outputs": [],
   "source": [
    "def part1(steps,input=INPUT):\n",
    "    octopusses = load_input(input)\n",
    "    return do_steps(octopusses,steps)"
   ]
  },
  {
   "cell_type": "code",
   "execution_count": 41,
   "metadata": {},
   "outputs": [],
   "source": [
    "def test_part1():\n",
    "    assert 1656 == part1(100,TEST_INPUT)\n",
    "test_part1()"
   ]
  },
  {
   "cell_type": "code",
   "execution_count": 44,
   "metadata": {},
   "outputs": [
    {
     "data": {
      "text/plain": [
       "1713"
      ]
     },
     "execution_count": 44,
     "metadata": {},
     "output_type": "execute_result"
    }
   ],
   "source": [
    "part1(100)"
   ]
  },
  {
   "cell_type": "markdown",
   "metadata": {},
   "source": [
    "# get_simultaneous_flash"
   ]
  },
  {
   "cell_type": "markdown",
   "metadata": {},
   "source": [
    "def "
   ]
  },
  {
   "cell_type": "code",
   "execution_count": 45,
   "metadata": {},
   "outputs": [],
   "source": [
    "def get_simultaneous_flash(matrix):\n",
    "    total_octopusses = len(matrix)*len(matrix[0])\n",
    "    steps=0\n",
    "    while True and steps < 1000:\n",
    "        steps += 1\n",
    "        if total_octopusses == do_step(matrix):\n",
    "            return steps"
   ]
  },
  {
   "cell_type": "code",
   "execution_count": 46,
   "metadata": {},
   "outputs": [],
   "source": [
    "def test_get_simultaneous_flash():\n",
    "    test_matrix=load_input(TEST_INPUT)\n",
    "    assert get_simultaneous_flash(test_matrix) == 195\n",
    "test_get_simultaneous_flash()"
   ]
  },
  {
   "cell_type": "markdown",
   "metadata": {},
   "source": [
    "# part2"
   ]
  },
  {
   "cell_type": "code",
   "execution_count": 47,
   "metadata": {},
   "outputs": [],
   "source": [
    "def part2(input=INPUT):\n",
    "    octopusses = load_input(input)\n",
    "    return get_simultaneous_flash(octopusses)"
   ]
  },
  {
   "cell_type": "code",
   "execution_count": 50,
   "metadata": {},
   "outputs": [],
   "source": [
    "def test_part2():\n",
    "    assert 195 == part2(TEST_INPUT)\n",
    "test_part2()"
   ]
  },
  {
   "cell_type": "code",
   "execution_count": 52,
   "metadata": {},
   "outputs": [
    {
     "data": {
      "text/plain": [
       "502"
      ]
     },
     "execution_count": 52,
     "metadata": {},
     "output_type": "execute_result"
    }
   ],
   "source": [
    "part2()"
   ]
  }
 ],
 "metadata": {
  "interpreter": {
   "hash": "ecf5722fdaf1897a315d257d89d94520bfcaa453217d5becf09b39e73618b0de"
  },
  "kernelspec": {
   "display_name": "Python 3.9.7 ('base')",
   "language": "python",
   "name": "python3"
  },
  "language_info": {
   "codemirror_mode": {
    "name": "ipython",
    "version": 3
   },
   "file_extension": ".py",
   "mimetype": "text/x-python",
   "name": "python",
   "nbconvert_exporter": "python",
   "pygments_lexer": "ipython3",
   "version": "3.9.7"
  },
  "orig_nbformat": 4
 },
 "nbformat": 4,
 "nbformat_minor": 2
}
