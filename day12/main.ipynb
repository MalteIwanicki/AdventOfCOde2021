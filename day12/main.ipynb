{
 "cells": [
  {
   "cell_type": "code",
   "execution_count": 48,
   "metadata": {},
   "outputs": [],
   "source": [
    "INPUT = \"input.txt\"\n",
    "TEST_INPUT = \"test_input.txt\"\n",
    "TEST_INPUT_2 = \"test_input2.txt\"\n",
    "TEST_INPUT_3 = \"test_input3.txt\"\n",
    "start = \"start\"\n",
    "end = \"end\"\n",
    "A = \"A\"\n",
    "b = \"b\"\n",
    "c = \"c\"\n"
   ]
  },
  {
   "cell_type": "code",
   "execution_count": 2,
   "metadata": {},
   "outputs": [],
   "source": [
    "class Cave:\n",
    "    def __init__(self,   _id:str):\n",
    "        self._id = _id\n",
    "        self.connected_caves = []\n",
    "        self.is_big = _id[0].isupper()\n",
    "        self.visited=True\n",
    "    \n",
    "    def __eq__(self,  other):\n",
    "        return self._id == other._id\n",
    "    \n",
    "    def __add__(self,  other:\"Cave\"):\n",
    "        self.connected_caves.append(other)\n",
    "        other.connected_caves.append(self)\n",
    "        \n",
    "    def __repr__(self):\n",
    "        return f\"{self._id}\"\n",
    "    \n",
    "    def __hash__(self):\n",
    "        return hash(self._id)"
   ]
  },
  {
   "cell_type": "code",
   "execution_count": 55,
   "metadata": {},
   "outputs": [],
   "source": [
    "def load_input(file=INPUT):\n",
    "    connections = open(file,             \"r\").read().splitlines()\n",
    "    caves=[Cave(start),Cave(end)]\n",
    "    for connection in connections:\n",
    "        left, right = [Cave(_id) for _id in connection.split(\"-\")]\n",
    "        for cave in caves:\n",
    "            if left == cave:\n",
    "                left = cave\n",
    "            elif right == cave:\n",
    "                right = cave\n",
    "        left + right\n",
    "        caves.extend([left,right])\n",
    "        caves = list(set(caves))\n",
    "    return caves\n"
   ]
  },
  {
   "cell_type": "code",
   "execution_count": 30,
   "metadata": {},
   "outputs": [
    {
     "data": {
      "text/plain": [
       "[c, end, d, b, start, A]"
      ]
     },
     "execution_count": 30,
     "metadata": {},
     "output_type": "execute_result"
    }
   ],
   "source": [
    "def test_load_input():\n",
    "    caves=load_input(TEST_INPUT)\n",
    "    assert len(caves)==6\n",
    "test_load_input()\n",
    "test_caves=load_input(TEST_INPUT)\n",
    "test_caves"
   ]
  },
  {
   "cell_type": "code",
   "execution_count": 5,
   "metadata": {},
   "outputs": [],
   "source": [
    "def get_start(caves)->Cave:\n",
    "    for cave in caves:\n",
    "        if cave._id == start:\n",
    "            return cave\n",
    "starting_cave = get_start(test_caves)"
   ]
  },
  {
   "cell_type": "code",
   "execution_count": 27,
   "metadata": {},
   "outputs": [
    {
     "data": {
      "text/plain": [
       "[[1], [2], [3], [4]]"
      ]
     },
     "execution_count": 27,
     "metadata": {},
     "output_type": "execute_result"
    }
   ],
   "source": [
    "\n",
    "def flatten(alist):\n",
    "    flat_list = []\n",
    "    for item in alist:\n",
    "        if type(item)!=list:\n",
    "            flat_list.append(item)\n",
    "            continue\n",
    "        if type(item[0])==list:\n",
    "            flattened_list = [flatten(anotherlist) for anotherlist in item]\n",
    "            for l in flattened_list:\n",
    "                flat_list.append(l)\n",
    "            continue\n",
    "        flat_list.append(item)\n",
    "    return flat_list\n",
    "\n",
    "alist=[[1],[2],[[3],[4]]]\n",
    "flatten(alist)"
   ]
  },
  {
   "cell_type": "code",
   "execution_count": 32,
   "metadata": {},
   "outputs": [],
   "source": [
    "def get_paths(cave, path=[]):\n",
    "    path = [p for p in path]\n",
    "    path.append(cave)\n",
    "    if cave._id == end:\n",
    "        return path\n",
    "    \n",
    "    possible_next_caves = [\n",
    "        other for other in cave.connected_caves if not other in path or other.is_big\n",
    "    ]\n",
    "    \n",
    "    other_paths= flatten([get_paths(other, path) for other in possible_next_caves if get_paths(other, path)])\n",
    "    \n",
    "    out = []\n",
    "    \n",
    "    for other_path in other_paths:\n",
    "        while type(other_path[-1]) == list:\n",
    "            other_path=other_path[-1]\n",
    "        if other_path and other_path[-1]._id==end:\n",
    "            out.append(other_path)\n",
    "    return out\n"
   ]
  },
  {
   "cell_type": "code",
   "execution_count": 33,
   "metadata": {},
   "outputs": [
    {
     "data": {
      "text/plain": [
       "[[start, A, c, A, b, A, end],\n",
       " [start, A, c, A, b, end],\n",
       " [start, A, c, A, end],\n",
       " [start, A, b, A, c, A, end],\n",
       " [start, A, b, A, end],\n",
       " [start, A, b, end],\n",
       " [start, A, end],\n",
       " [start, b, A, c, A, end],\n",
       " [start, b, A, end],\n",
       " [start, b, end]]"
      ]
     },
     "execution_count": 33,
     "metadata": {},
     "output_type": "execute_result"
    }
   ],
   "source": [
    "get_paths(starting_cave)"
   ]
  },
  {
   "cell_type": "code",
   "execution_count": 37,
   "metadata": {},
   "outputs": [],
   "source": [
    "def test_get_path(starting_cave):\n",
    "    results = get_paths(starting_cave)\n",
    "    result_strings = [str(path) for path in results]\n",
    "    expected = [\n",
    "        \"[start, A, b, A, c, A, end]\",\n",
    "        \"[start, A, b, A, end]\",\n",
    "        \"[start, A, b, end]\",\n",
    "        \"[start, A, c, A, b, A, end]\",\n",
    "        \"[start, A, c, A, b, end]\",\n",
    "        \"[start, A, c, A, end]\",\n",
    "        \"[start, A, end]\",\n",
    "        \"[start, b, A, c, A, end]\",\n",
    "        \"[start, b, A, end]\",\n",
    "        \"[start, b, end]\",\n",
    "    ]\n",
    "    for path in expected:\n",
    "        assert path in result_strings\n",
    "\n",
    "\n",
    "test_get_path(get_start(test_caves))\n",
    "\n",
    "\n"
   ]
  },
  {
   "cell_type": "code",
   "execution_count": 47,
   "metadata": {},
   "outputs": [],
   "source": [
    "def test_get_path2(starting_cave):\n",
    "    results = get_paths(starting_cave)\n",
    "    result_strings = [str(path) for path in results]\n",
    "    expected = [\n",
    "        \"[start, HN, dc, HN, end]\",\n",
    "        \"[start, HN, dc, HN, kj, HN, end]\",\n",
    "        \"[start, HN, dc, end]\",\n",
    "        \"[start, HN, dc, kj, HN, end]\",\n",
    "        \"[start, HN, end]\",\n",
    "        \"[start, HN, kj, HN, dc, HN, end]\",\n",
    "        \"[start, HN, kj, HN, dc, end]\",\n",
    "        \"[start, HN, kj, HN, end]\",\n",
    "        \"[start, HN, kj, dc, HN, end]\",\n",
    "        \"[start, HN, kj, dc, end]\",\n",
    "        \"[start, dc, HN, end]\",\n",
    "        \"[start, dc, HN, kj, HN, end]\",\n",
    "        \"[start, dc, end]\",\n",
    "        \"[start, dc, kj, HN, end]\",\n",
    "        \"[start, kj, HN, dc, HN, end]\",\n",
    "        \"[start, kj, HN, dc, end]\",\n",
    "        \"[start, kj, HN, end]\",\n",
    "        \"[start, kj, dc, HN, end]\",\n",
    "        \"[start, kj, dc, end]\",\n",
    "    ]\n",
    "\n",
    "    for path in expected:\n",
    "        assert path in result_strings\n",
    "\n",
    "\n",
    "test_get_path2(get_start(load_input(TEST_INPUT_2)))\n"
   ]
  },
  {
   "cell_type": "code",
   "execution_count": 52,
   "metadata": {},
   "outputs": [],
   "source": [
    "def test_path_count(starting_cave):\n",
    "    results = get_paths(starting_cave)\n",
    "    assert len(results) == 226\n",
    "\n",
    "test_path_count(get_start(load_input(TEST_INPUT_3)))"
   ]
  },
  {
   "cell_type": "code",
   "execution_count": 56,
   "metadata": {},
   "outputs": [
    {
     "data": {
      "text/plain": [
       "3510"
      ]
     },
     "execution_count": 56,
     "metadata": {},
     "output_type": "execute_result"
    }
   ],
   "source": [
    "len(get_paths(get_start(load_input())))"
   ]
  },
  {
   "cell_type": "code",
   "execution_count": null,
   "metadata": {},
   "outputs": [],
   "source": []
  }
 ],
 "metadata": {
  "interpreter": {
   "hash": "ecf5722fdaf1897a315d257d89d94520bfcaa453217d5becf09b39e73618b0de"
  },
  "kernelspec": {
   "display_name": "Python 3.9.7 ('base')",
   "language": "python",
   "name": "python3"
  },
  "language_info": {
   "codemirror_mode": {
    "name": "ipython",
    "version": 3
   },
   "file_extension": ".py",
   "mimetype": "text/x-python",
   "name": "python",
   "nbconvert_exporter": "python",
   "pygments_lexer": "ipython3",
   "version": "3.9.7"
  },
  "orig_nbformat": 4
 },
 "nbformat": 4,
 "nbformat_minor": 2
}
