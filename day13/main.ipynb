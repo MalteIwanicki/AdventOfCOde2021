{
 "cells": [
  {
   "cell_type": "code",
   "execution_count": 4,
   "metadata": {},
   "outputs": [],
   "source": [
    "INPUT = \"input.txt\"\n",
    "TEST_INPUT = \"test_input.txt\"\n",
    "X = \"x\"\n",
    "Y = \"y\"\n",
    "AXIS = \"axis\"\n",
    "POSITION = \"position\"\n"
   ]
  },
  {
   "cell_type": "markdown",
   "metadata": {},
   "source": [
    "# load"
   ]
  },
  {
   "cell_type": "code",
   "execution_count": 5,
   "metadata": {},
   "outputs": [],
   "source": [
    "def load_input(file=INPUT):\n",
    "    lines = open(file, \"r\").read().splitlines()\n",
    "    points = []\n",
    "    empty_line_index = 0\n",
    "    for i, line in enumerate(lines):\n",
    "        if not line:\n",
    "            empty_line_index = i\n",
    "            break\n",
    "        coordinates_as_string = line.split(\",\")\n",
    "        point = {X: int(coordinates_as_string[0]), Y: int(coordinates_as_string[1])}\n",
    "        points.append(point)\n",
    "    folds = []\n",
    "    for fold in lines[empty_line_index+1:]:\n",
    "        fold = fold.rsplit(\" \",1)[1]\n",
    "        axis, position = fold.split(\"=\")\n",
    "        fold = {AXIS:axis, POSITION:int(position)}\n",
    "        folds.append(fold)\n",
    "    return points, folds"
   ]
  },
  {
   "cell_type": "code",
   "execution_count": 6,
   "metadata": {},
   "outputs": [],
   "source": [
    "def test_load_input():\n",
    "    points, folds = load_input(TEST_INPUT)\n",
    "    assert len(points) == 18\n",
    "    assert len(folds) == 2\n",
    "    assert points[0] == {X: 6, Y: 10}\n",
    "    assert points[-1] == {X: 9, Y: 0}\n",
    "    assert folds[0] == {AXIS: Y, POSITION: 7}\n",
    "    assert folds[-1] == {AXIS: X, POSITION: 5}\n",
    "\n",
    "\n",
    "test_load_input()\n"
   ]
  },
  {
   "cell_type": "markdown",
   "metadata": {},
   "source": [
    "# size"
   ]
  },
  {
   "cell_type": "code",
   "execution_count": 7,
   "metadata": {},
   "outputs": [],
   "source": [
    "def get_size(points):\n",
    "    x = 0\n",
    "    y = 0\n",
    "    for point in points:\n",
    "        x = max(x, point[X]+1)\n",
    "        y = max(y, point[Y]+1)\n",
    "    return x, y\n"
   ]
  },
  {
   "cell_type": "code",
   "execution_count": 8,
   "metadata": {},
   "outputs": [],
   "source": [
    "def test_get_size():\n",
    "    points, _ = load_input(TEST_INPUT)\n",
    "    x, y = get_size(points)\n",
    "    assert x==11\n",
    "    assert y==15\n",
    "test_get_size() "
   ]
  },
  {
   "cell_type": "markdown",
   "metadata": {},
   "source": [
    "# matrix"
   ]
  },
  {
   "cell_type": "code",
   "execution_count": 9,
   "metadata": {},
   "outputs": [],
   "source": [
    "def matrix_to_str(matrix):\n",
    "    string=\"\"\n",
    "    for row in matrix:\n",
    "        for col in row:\n",
    "            string += col\n",
    "        string+=\"\\n\"\n",
    "    return string"
   ]
  },
  {
   "cell_type": "code",
   "execution_count": 10,
   "metadata": {},
   "outputs": [],
   "source": [
    "def get_matrix(points):\n",
    "    x, y = get_size(points)\n",
    "    matrix=[]\n",
    "    for row in range(y):\n",
    "        row = []\n",
    "        for col in range(x):\n",
    "            row.append(\".\")\n",
    "        matrix.append(row)\n",
    "    \n",
    "    for point in points:\n",
    "        matrix[point[Y]][point[X]] = \"#\"\n",
    "    \n",
    "    return matrix"
   ]
  },
  {
   "cell_type": "code",
   "execution_count": 11,
   "metadata": {},
   "outputs": [],
   "source": [
    "def test_get_matrix():\n",
    "    points, _ = load_input(TEST_INPUT)\n",
    "    matrix = get_matrix(points)\n",
    "    result = matrix_to_str(matrix)\n",
    "    expected = \"...#..#..#.\\n....#......\\n...........\\n#..........\\n...#....#.#\\n...........\\n...........\\n...........\\n...........\\n...........\\n.#....#.##.\\n....#......\\n......#...#\\n#..........\\n#.#........\\n\"\n",
    "    assert result in expected\n",
    "\n",
    "\n",
    "test_get_matrix()\n"
   ]
  },
  {
   "cell_type": "markdown",
   "metadata": {},
   "source": [
    "# combine lines"
   ]
  },
  {
   "cell_type": "code",
   "execution_count": 12,
   "metadata": {},
   "outputs": [],
   "source": [
    "def combine_lines(line_a,line_b):\n",
    "    new_line=\"\"\n",
    "    for a, b in zip(line_a, line_b):\n",
    "        new_line +=\"#\" if \"#\" in a+b else \".\"\n",
    "    return new_line"
   ]
  },
  {
   "cell_type": "code",
   "execution_count": 13,
   "metadata": {},
   "outputs": [],
   "source": [
    "def test_combine_lines():\n",
    "    new_line = combine_lines(\"##...\",\".#..#\")\n",
    "    assert new_line == \"##..#\"\n",
    "test_combine_lines()"
   ]
  },
  {
   "cell_type": "markdown",
   "metadata": {},
   "source": []
  },
  {
   "cell_type": "code",
   "execution_count": 18,
   "metadata": {},
   "outputs": [
    {
     "data": {
      "text/plain": [
       "[4, 3, 2, 1]"
      ]
     },
     "execution_count": 18,
     "metadata": {},
     "output_type": "execute_result"
    }
   ],
   "source": [
    "a=[1,2,3,4]\n",
    "a[::-1]"
   ]
  },
  {
   "cell_type": "code",
   "execution_count": 42,
   "metadata": {},
   "outputs": [],
   "source": [
    "def fold_matrix(fold, matrix):\n",
    "    new_matrix = []\n",
    "    if fold[AXIS]==Y:\n",
    "        tops = matrix[:fold[POSITION]]\n",
    "        bots = matrix[fold[POSITION]+1:]\n",
    "        for top, bot in zip(tops, bots[::-1]):\n",
    "            new_matrix.append(combine_lines(top,bot))\n",
    "            \n",
    "    elif fold[AXIS]==X:\n",
    "        lefts=[]\n",
    "        rights=[]\n",
    "        for row in matrix:\n",
    "            lefts.append(row[:fold[POSITION]])\n",
    "            rights .append(row[fold[POSITION]+1:])\n",
    "        for left, right in zip(lefts,rights):\n",
    "            new_matrix.append(combine_lines(left,right[::-1]))\n",
    "    return new_matrix"
   ]
  },
  {
   "cell_type": "code",
   "execution_count": 43,
   "metadata": {},
   "outputs": [],
   "source": [
    "def test_fold_matrix():\n",
    "    matrix=[\"#..\",\"...\",\"..#\"]\n",
    "    expected = [\"#.#\"]\n",
    "    result = fold_matrix({AXIS:Y,POSITION:1},matrix)\n",
    "    assert result == expected\n",
    "    matrix=[\"#..\",\"##.\",\"...\",\"..#\",\"..#\"]\n",
    "    expected = [\"#.#\",\"###\"]\n",
    "    result = fold_matrix({AXIS:Y,POSITION:2},matrix)\n",
    "    assert result == expected\n",
    "    \n",
    "    matrix=[\"#..\",\n",
    "            \"...\",\n",
    "            \"..#\"]\n",
    "    expected = [\"#\",\n",
    "                \".\",\n",
    "                \"#\"]\n",
    "    result = fold_matrix({AXIS:X,POSITION:1},matrix)\n",
    "    assert result == expected\n",
    "    matrix=[\"#..#.\",\n",
    "            \"....#\"]\n",
    "    expected = [\"##\",\n",
    "                \"#.\"]\n",
    "    result = fold_matrix({AXIS:X,POSITION:2},matrix)\n",
    "    assert result == expected\n",
    "    \n",
    "test_fold_matrix()"
   ]
  },
  {
   "cell_type": "code",
   "execution_count": 57,
   "metadata": {},
   "outputs": [
    {
     "data": {
      "text/plain": [
       "807"
      ]
     },
     "execution_count": 57,
     "metadata": {},
     "output_type": "execute_result"
    }
   ],
   "source": [
    "def part1(input=INPUT):\n",
    "    points, folds = load_input(input)\n",
    "    matrix = get_matrix(points)\n",
    "    for fold in folds[:1]:\n",
    "        matrix = fold_matrix(fold, matrix)\n",
    "    string= matrix_to_str(matrix)\n",
    "    count_points = string.count(\"#\")\n",
    "    return count_points\n",
    "assert part1(TEST_INPUT) ==17\n",
    "part1()"
   ]
  },
  {
   "cell_type": "code",
   "execution_count": 58,
   "metadata": {},
   "outputs": [
    {
     "name": "stdout",
     "output_type": "stream",
     "text": [
      "#.....##..#..#.####..##..#..#.####...##.\n",
      "#....#..#.#..#.#....#..#.#..#.#.......#.\n",
      "#....#....####.###..#....#..#.###.....#.\n",
      "#....#.##.#..#.#....#.##.#..#.#.......#.\n",
      "#....#..#.#..#.#....#..#.#..#.#....#..#.\n",
      "####..###.#..#.####..###..##..####..##..\n",
      "\n"
     ]
    },
    {
     "data": {
      "text/plain": [
       "98"
      ]
     },
     "execution_count": 58,
     "metadata": {},
     "output_type": "execute_result"
    }
   ],
   "source": [
    "def part2(input=INPUT):\n",
    "    points, folds = load_input(input)\n",
    "    matrix = get_matrix(points)\n",
    "    for fold in folds:\n",
    "        matrix = fold_matrix(fold, matrix)\n",
    "    string= matrix_to_str(matrix)\n",
    "    print(string)\n",
    "    count_points = string.count(\"#\")\n",
    "    return count_points\n",
    "part2()"
   ]
  },
  {
   "cell_type": "code",
   "execution_count": null,
   "metadata": {},
   "outputs": [],
   "source": [
    "\"LGHEGUEJ\""
   ]
  }
 ],
 "metadata": {
  "interpreter": {
   "hash": "916dbcbb3f70747c44a77c7bcd40155683ae19c65e1c03b4aa3499c5328201f1"
  },
  "kernelspec": {
   "display_name": "Python 3.9.7 64-bit",
   "language": "python",
   "name": "python3"
  },
  "language_info": {
   "codemirror_mode": {
    "name": "ipython",
    "version": 3
   },
   "file_extension": ".py",
   "mimetype": "text/x-python",
   "name": "python",
   "nbconvert_exporter": "python",
   "pygments_lexer": "ipython3",
   "version": "3.9.7"
  },
  "orig_nbformat": 4
 },
 "nbformat": 4,
 "nbformat_minor": 2
}
