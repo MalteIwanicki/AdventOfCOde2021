{
 "cells": [
  {
   "cell_type": "code",
   "execution_count": 1,
   "metadata": {},
   "outputs": [],
   "source": [
    "INPUT = \"input.txt\"\n",
    "TEST_INPUT = \"test_input.txt\"\n"
   ]
  },
  {
   "cell_type": "code",
   "execution_count": 18,
   "metadata": {},
   "outputs": [
    {
     "data": {
      "text/plain": [
       "'NNCB'"
      ]
     },
     "execution_count": 18,
     "metadata": {},
     "output_type": "execute_result"
    }
   ],
   "source": [
    "def load_input(file=INPUT):\n",
    "    lines = open(file, \"r\").read().splitlines()\n",
    "    template = lines.pop(0)\n",
    "    rules = {}\n",
    "    for rule in lines[1:]:\n",
    "        key1 = rule[0]\n",
    "        rules.setdefault(key1, {})\n",
    "        key2 = rule[1]\n",
    "        result = rule[-1]\n",
    "        rules[key1][key2] = result\n",
    "\n",
    "    return template, rules\n",
    "\n",
    "\n",
    "template, rules = load_input(TEST_INPUT)\n",
    "template\n"
   ]
  },
  {
   "cell_type": "code",
   "execution_count": 21,
   "metadata": {},
   "outputs": [
    {
     "data": {
      "text/plain": [
       "'NCNBCHB'"
      ]
     },
     "execution_count": 21,
     "metadata": {},
     "output_type": "execute_result"
    }
   ],
   "source": [
    "def round(template, rules):\n",
    "    out = \"\"\n",
    "    for first, second in zip(template, template[1:]):\n",
    "        out += first\n",
    "        out += rules.get(first, {}).get(second, \"\")\n",
    "    return out + template[-1]\n",
    "\n",
    "round(template, rules)\n"
   ]
  },
  {
   "cell_type": "code",
   "execution_count": 51,
   "metadata": {},
   "outputs": [
    {
     "name": "stdout",
     "output_type": "stream",
     "text": [
      "round 0\n",
      "round 1\n",
      "round 2\n",
      "round 3\n",
      "round 4\n",
      "round 5\n",
      "round 6\n",
      "round 7\n",
      "round 8\n",
      "round 9\n"
     ]
    }
   ],
   "source": [
    "def rounds(template,rules,numbers):\n",
    "    for n in range(numbers):\n",
    "        print(f\"round {n}\")\n",
    "        template = round(template,rules)\n",
    "    return template\n",
    "template10 = rounds(template,rules,10)"
   ]
  },
  {
   "cell_type": "code",
   "execution_count": 65,
   "metadata": {},
   "outputs": [
    {
     "data": {
      "text/plain": [
       "{'N': 2, 'C': 1, 'B': 1}"
      ]
     },
     "execution_count": 65,
     "metadata": {},
     "output_type": "execute_result"
    }
   ],
   "source": [
    "def count_chars(template):\n",
    "    counts={}\n",
    "    for c in template:\n",
    "        counts.setdefault(c,0)\n",
    "        counts[c]+=1\n",
    "    return counts\n",
    "counts=count_chars(template)\n",
    "counts"
   ]
  },
  {
   "cell_type": "code",
   "execution_count": 47,
   "metadata": {},
   "outputs": [
    {
     "data": {
      "text/plain": [
       "1588"
      ]
     },
     "execution_count": 47,
     "metadata": {},
     "output_type": "execute_result"
    }
   ],
   "source": [
    "def substract_most_with_least(counts):\n",
    "    return max(counts.values()) - min(counts.values())\n",
    "substract_most_with_least(counts)"
   ]
  },
  {
   "cell_type": "code",
   "execution_count": 49,
   "metadata": {},
   "outputs": [
    {
     "data": {
      "text/plain": [
       "1588"
      ]
     },
     "metadata": {},
     "output_type": "display_data"
    },
    {
     "data": {
      "text/plain": [
       "2170"
      ]
     },
     "execution_count": 49,
     "metadata": {},
     "output_type": "execute_result"
    }
   ],
   "source": [
    "def part1(file=INPUT,number_rounds=10):\n",
    "    template, rules =load_input(file)\n",
    "    template = rounds(template,rules,number_rounds)\n",
    "    counts= count_chars(template)\n",
    "    return substract_most_with_least(counts)\n",
    "display(part1(TEST_INPUT))\n",
    "part1()"
   ]
  },
  {
   "cell_type": "code",
   "execution_count": 63,
   "metadata": {},
   "outputs": [],
   "source": [
    "def initiate_pairs(template):\n",
    "    pairs = {}\n",
    "    for i in range(len(template)-1):\n",
    "        pair = template[i:i+2]\n",
    "        pairs.setdefault(pair,0)\n",
    "        pairs[pair]+=1\n",
    "    return pairs\n",
    "pairs = initiate_pairs(template)"
   ]
  },
  {
   "cell_type": "code",
   "execution_count": 66,
   "metadata": {},
   "outputs": [
    {
     "data": {
      "text/plain": [
       "({'NC': 1, 'CN': 1, 'NB': 1, 'BC': 1, 'CH': 1, 'HB': 1},\n",
       " {'N': 2, 'C': 2, 'B': 2, 'H': 1})"
      ]
     },
     "execution_count": 66,
     "metadata": {},
     "output_type": "execute_result"
    }
   ],
   "source": [
    "def round(pairs, rules, counts):\n",
    "    new_pairs={}\n",
    "    for pair in pairs:\n",
    "        char = rules.get(pair[0], {}).get(pair[1], \"\")\n",
    "        count = pairs[pair]\n",
    "        if not char:\n",
    "            new_pairs.setdefault(pair,0)\n",
    "            new_pairs[pair] += count\n",
    "            \n",
    "        counts.setdefault(char,0)\n",
    "        counts[char] += count\n",
    "        \n",
    "        left=left_pair = pair[0]+char\n",
    "        new_pairs.setdefault(left,0)\n",
    "        new_pairs[left] += count\n",
    "        \n",
    "        right = right_pair = char + pair[1]\n",
    "        new_pairs.setdefault(right,0)\n",
    "        new_pairs[right] += count\n",
    "    return new_pairs, counts\n",
    "round(pairs, rules, counts)"
   ]
  },
  {
   "cell_type": "code",
   "execution_count": 69,
   "metadata": {},
   "outputs": [
    {
     "data": {
      "text/plain": [
       "2188189693529"
      ]
     },
     "metadata": {},
     "output_type": "display_data"
    },
    {
     "data": {
      "text/plain": [
       "2422444761283"
      ]
     },
     "execution_count": 69,
     "metadata": {},
     "output_type": "execute_result"
    }
   ],
   "source": [
    "def part2(file=INPUT):\n",
    "    template, rules = load_input(file)\n",
    "    pairs = initiate_pairs(template)\n",
    "    counts = count_chars(template)\n",
    "    for _ in range(40):\n",
    "        pairs, counts = round(pairs,rules,counts)\n",
    "    return substract_most_with_least(counts)\n",
    "display(part2(TEST_INPUT))\n",
    "part2()"
   ]
  },
  {
   "cell_type": "code",
   "execution_count": null,
   "metadata": {},
   "outputs": [],
   "source": []
  }
 ],
 "metadata": {
  "interpreter": {
   "hash": "916dbcbb3f70747c44a77c7bcd40155683ae19c65e1c03b4aa3499c5328201f1"
  },
  "kernelspec": {
   "display_name": "Python 3.9.7 64-bit",
   "language": "python",
   "name": "python3"
  },
  "language_info": {
   "codemirror_mode": {
    "name": "ipython",
    "version": 3
   },
   "file_extension": ".py",
   "mimetype": "text/x-python",
   "name": "python",
   "nbconvert_exporter": "python",
   "pygments_lexer": "ipython3",
   "version": "3.9.7"
  },
  "orig_nbformat": 4
 },
 "nbformat": 4,
 "nbformat_minor": 2
}
